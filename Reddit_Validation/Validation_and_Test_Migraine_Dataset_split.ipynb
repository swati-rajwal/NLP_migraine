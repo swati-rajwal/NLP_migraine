{
  "nbformat": 4,
  "nbformat_minor": 0,
  "metadata": {
    "colab": {
      "provenance": []
    },
    "kernelspec": {
      "name": "python3",
      "display_name": "Python 3"
    },
    "language_info": {
      "name": "python"
    }
  },
  "cells": [
    {
      "cell_type": "markdown",
      "source": [
        "# Google Drive connection"
      ],
      "metadata": {
        "id": "x5A2OAfZwT0h"
      }
    },
    {
      "cell_type": "code",
      "source": [
        "from google.colab import drive\n",
        "drive.mount('/content/drive')"
      ],
      "metadata": {
        "id": "VfeBP_uPhcau"
      },
      "execution_count": null,
      "outputs": []
    },
    {
      "cell_type": "code",
      "execution_count": null,
      "metadata": {
        "id": "fYwn649apuoT"
      },
      "outputs": [],
      "source": [
        "import pandas as pd\n",
        "import numpy as np\n",
        "pd.set_option('display.max_colwidth',None)   #this displays the dataframe in full width"
      ]
    },
    {
      "cell_type": "markdown",
      "source": [],
      "metadata": {
        "id": "SipO-Nt8s4G4"
      }
    },
    {
      "cell_type": "markdown",
      "source": [
        "# Reading the 4 datasets into one dataframe"
      ],
      "metadata": {
        "id": "Uo_wUpyxwYlO"
      }
    },
    {
      "cell_type": "code",
      "source": [
        "df  = pd.DataFrame() #empty Dataframe\n",
        "\n",
        "dataset_name = ['headache_07_12','headaches_07_12','migraine_07_12','ndph_07_12']\n",
        "print(\"STARTING TO READ DATASETS\\n\")\n",
        "for name in dataset_name:\n",
        "  url = '/content/drive/MyDrive/Reddit Migraine Dataset/'+name+'.xlsx'\n",
        "  print(\"**********************************\\n\")\n",
        "  print(\"Reading Dataset:\",name)\n",
        "  df_temp = pd.read_excel(url)\n",
        "  print(\"length of Dataset is:\",len(df_temp),\"\\n\")\n",
        "  df_temp = df_temp.drop(['Unnamed: 0','flair_text','date','domain','author', 'score'],axis=1)\n",
        "  df = pd.concat([df, df_temp], axis=0)\n",
        "\n",
        "df = df.reset_index(drop=True)\n",
        "print(\"\\nALL DATASETS READING FINISHED\")"
      ],
      "metadata": {
        "colab": {
          "base_uri": "https://localhost:8080/"
        },
        "id": "sxFGAKeFfLst",
        "outputId": "c3c1a220-8c02-465a-a9a4-f29826c90467"
      },
      "execution_count": null,
      "outputs": [
        {
          "output_type": "stream",
          "name": "stdout",
          "text": [
            "STARTING TO READ DATASETS\n",
            "\n",
            "**********************************\n",
            "\n",
            "Reading Dataset: headache_07_12\n",
            "length of Dataset is: 521 \n",
            "\n",
            "**********************************\n",
            "\n",
            "Reading Dataset: headaches_07_12\n",
            "length of Dataset is: 548 \n",
            "\n",
            "**********************************\n",
            "\n",
            "Reading Dataset: migraine_07_12\n",
            "length of Dataset is: 2324 \n",
            "\n",
            "**********************************\n",
            "\n",
            "Reading Dataset: ndph_07_12\n",
            "length of Dataset is: 232 \n",
            "\n",
            "\n",
            "ALL DATASETS READING FINISHED\n"
          ]
        }
      ]
    },
    {
      "cell_type": "code",
      "source": [
        "df.shape"
      ],
      "metadata": {
        "colab": {
          "base_uri": "https://localhost:8080/"
        },
        "id": "jAHOvMB2ifbN",
        "outputId": "dae787e6-03ea-4c7e-f77a-cdf78f57b835"
      },
      "execution_count": null,
      "outputs": [
        {
          "output_type": "execute_result",
          "data": {
            "text/plain": [
              "(3625, 3)"
            ]
          },
          "metadata": {},
          "execution_count": 5
        }
      ]
    },
    {
      "cell_type": "markdown",
      "source": [
        "# Operations performed on dataframe:\n",
        "1. if there is no 'text', then the title is copied into the text\n",
        "2. Duplicate rows are removed from the dataframe"
      ],
      "metadata": {
        "id": "OnWh7urawfIh"
      }
    },
    {
      "cell_type": "code",
      "source": [
        "# Removal of NaN values\n",
        "for i in range(len(df)):\n",
        "  if (df['text'][i]!=df['text'][i]):\n",
        "    df['text'][i] = df['title'][i]"
      ],
      "metadata": {
        "id": "u4LyRMt5osEA"
      },
      "execution_count": null,
      "outputs": []
    },
    {
      "cell_type": "code",
      "source": [
        "df = df.drop('title',axis=1)"
      ],
      "metadata": {
        "id": "uf-WNa1mv_ZH"
      },
      "execution_count": null,
      "outputs": []
    },
    {
      "cell_type": "code",
      "source": [
        "df.duplicated(keep=False).sum()"
      ],
      "metadata": {
        "colab": {
          "base_uri": "https://localhost:8080/"
        },
        "id": "JvV-HPBHtatH",
        "outputId": "71b113f7-fcf5-4b9b-ee23-e83992e46e82"
      },
      "execution_count": null,
      "outputs": [
        {
          "output_type": "execute_result",
          "data": {
            "text/plain": [
              "1218"
            ]
          },
          "metadata": {},
          "execution_count": 8
        }
      ]
    },
    {
      "cell_type": "code",
      "source": [
        "df = df.drop_duplicates(keep='first')"
      ],
      "metadata": {
        "id": "KP_pNtv1vP0g"
      },
      "execution_count": null,
      "outputs": []
    },
    {
      "cell_type": "code",
      "source": [
        "df = df.reset_index(drop=True)"
      ],
      "metadata": {
        "id": "X_ukvtlC6uyo"
      },
      "execution_count": null,
      "outputs": []
    },
    {
      "cell_type": "code",
      "source": [
        "# Look, Ma! no duplicates.\n",
        "df.duplicated(keep=False).sum()"
      ],
      "metadata": {
        "colab": {
          "base_uri": "https://localhost:8080/"
        },
        "id": "SbO-PncfvUnK",
        "outputId": "67a787ac-1cc3-4653-dd1f-8e9ffc2a30d4"
      },
      "execution_count": null,
      "outputs": [
        {
          "output_type": "execute_result",
          "data": {
            "text/plain": [
              "0"
            ]
          },
          "metadata": {},
          "execution_count": 11
        }
      ]
    },
    {
      "cell_type": "code",
      "source": [
        "df.shape"
      ],
      "metadata": {
        "colab": {
          "base_uri": "https://localhost:8080/"
        },
        "id": "MoRIQW-WvZNA",
        "outputId": "8490ef0d-0f1a-4885-bcac-4776cc2a4ec2"
      },
      "execution_count": null,
      "outputs": [
        {
          "output_type": "execute_result",
          "data": {
            "text/plain": [
              "(2985, 2)"
            ]
          },
          "metadata": {},
          "execution_count": 12
        }
      ]
    },
    {
      "cell_type": "code",
      "source": [
        "df.empty #To see if there is an empty cell"
      ],
      "metadata": {
        "colab": {
          "base_uri": "https://localhost:8080/"
        },
        "id": "e99KsXnhjMVE",
        "outputId": "3ca3e42c-8cd9-4847-c679-440b1341a0a9"
      },
      "execution_count": null,
      "outputs": [
        {
          "output_type": "execute_result",
          "data": {
            "text/plain": [
              "False"
            ]
          },
          "metadata": {},
          "execution_count": 12
        }
      ]
    },
    {
      "cell_type": "code",
      "source": [
        "len(df[df['text'].isna()])  # To see if there are NaN in cells"
      ],
      "metadata": {
        "colab": {
          "base_uri": "https://localhost:8080/"
        },
        "id": "wDx-apUelQtw",
        "outputId": "c96a0fb1-bc87-45c2-b951-c097881facbf"
      },
      "execution_count": null,
      "outputs": [
        {
          "output_type": "execute_result",
          "data": {
            "text/plain": [
              "0"
            ]
          },
          "metadata": {},
          "execution_count": 13
        }
      ]
    },
    {
      "cell_type": "code",
      "source": [
        "len(df['id'].unique()) # this no matches with the total df size. So dataframe is looking good so far!"
      ],
      "metadata": {
        "colab": {
          "base_uri": "https://localhost:8080/"
        },
        "id": "Z53lFKNUs9do",
        "outputId": "e819cdc9-4d80-49a6-fc50-5507e7bcf837"
      },
      "execution_count": null,
      "outputs": [
        {
          "output_type": "execute_result",
          "data": {
            "text/plain": [
              "2985"
            ]
          },
          "metadata": {},
          "execution_count": 14
        }
      ]
    },
    {
      "cell_type": "code",
      "source": [
        "df.head(2)"
      ],
      "metadata": {
        "id": "ghgh-2sujTma"
      },
      "execution_count": null,
      "outputs": []
    },
    {
      "cell_type": "code",
      "source": [
        "df.shape"
      ],
      "metadata": {
        "colab": {
          "base_uri": "https://localhost:8080/"
        },
        "id": "vr7QeS9LxOOA",
        "outputId": "0bfd613b-2418-4dd7-c013-a1a4db8fb2e9"
      },
      "execution_count": null,
      "outputs": [
        {
          "output_type": "execute_result",
          "data": {
            "text/plain": [
              "(2985, 2)"
            ]
          },
          "metadata": {},
          "execution_count": 17
        }
      ]
    },
    {
      "cell_type": "markdown",
      "source": [
        "# Keywords-based Filtering\n",
        "\n",
        "The entries which do not contain these keywords will be dropped from the dataset"
      ],
      "metadata": {
        "id": "SWwtU2Sy0yhA"
      }
    },
    {
      "cell_type": "code",
      "source": [
        "keywords = ['Migraine','Triptan','Sumatriptan','Imitrex','Rizatriptan','Maxalt','Naratriptan','Amerge','Eletriptan','Relpax','Zolmitriptan','Zomig','Frovatriptan','Frova','Almotriptan','Axert','Erenumab','Aimovig','Galcanezumab','Emgality','Fremanezumab','Ajovy','Eptinezumab','Vyepti','Ubrogepant','Ubrelvy','Rimegepant','Nurtec','Atogepant','Qulipta']"
      ],
      "metadata": {
        "id": "0Ot6izUNz5yi"
      },
      "execution_count": null,
      "outputs": []
    },
    {
      "cell_type": "code",
      "source": [
        "index_to_delete = []\n",
        "for i in range(len(df)):\n",
        "  if any(word.lower() in df['text'][i].lower() for word in keywords):\n",
        "    continue\n",
        "\n",
        "  else:\n",
        "    index_to_delete.append(i)"
      ],
      "metadata": {
        "id": "veAlkxDklA28"
      },
      "execution_count": null,
      "outputs": []
    },
    {
      "cell_type": "code",
      "source": [
        "len(index_to_delete)"
      ],
      "metadata": {
        "colab": {
          "base_uri": "https://localhost:8080/"
        },
        "id": "YFVRIffuqMZf",
        "outputId": "02b0794b-d8db-443a-deed-538e00f04282"
      },
      "execution_count": null,
      "outputs": [
        {
          "output_type": "execute_result",
          "data": {
            "text/plain": [
              "1476"
            ]
          },
          "metadata": {},
          "execution_count": 18
        }
      ]
    },
    {
      "cell_type": "code",
      "source": [
        "for i in index_to_delete:\n",
        "    df = df.drop(i)"
      ],
      "metadata": {
        "id": "TATQK-yTnvHz"
      },
      "execution_count": null,
      "outputs": []
    },
    {
      "cell_type": "code",
      "source": [
        "df.shape"
      ],
      "metadata": {
        "colab": {
          "base_uri": "https://localhost:8080/"
        },
        "id": "KhdIMnurrcin",
        "outputId": "da65e09c-c0e2-4560-add8-fe5f479b0369"
      },
      "execution_count": null,
      "outputs": [
        {
          "output_type": "execute_result",
          "data": {
            "text/plain": [
              "(1509, 2)"
            ]
          },
          "metadata": {},
          "execution_count": 20
        }
      ]
    },
    {
      "cell_type": "code",
      "source": [
        "2985-1476 # data in original df - keywords matched df"
      ],
      "metadata": {
        "colab": {
          "base_uri": "https://localhost:8080/"
        },
        "id": "z1nbMoPxrf71",
        "outputId": "d932e319-9f7c-4d8d-ae78-2a746a87bf0b"
      },
      "execution_count": null,
      "outputs": [
        {
          "output_type": "execute_result",
          "data": {
            "text/plain": [
              "1509"
            ]
          },
          "metadata": {},
          "execution_count": 23
        }
      ]
    },
    {
      "cell_type": "markdown",
      "source": [
        "# Splitting dataset into Validation & Test\n",
        "\n",
        "In this section, we are validating a trained model (on twitter data). Test dataset is manually annotated by medical practioners"
      ],
      "metadata": {
        "id": "oLh7LnL6yQcC"
      }
    },
    {
      "cell_type": "code",
      "source": [
        "df = df.reset_index(drop=True)"
      ],
      "metadata": {
        "id": "ILqVaRCJ1xCF"
      },
      "execution_count": null,
      "outputs": []
    },
    {
      "cell_type": "code",
      "source": [
        "from sklearn.model_selection import train_test_split"
      ],
      "metadata": {
        "id": "E6tjG7yFxQm1"
      },
      "execution_count": null,
      "outputs": []
    },
    {
      "cell_type": "code",
      "source": [
        "Validation , Test = train_test_split(df,test_size=0.2)"
      ],
      "metadata": {
        "id": "JSWirekGxDQ3"
      },
      "execution_count": null,
      "outputs": []
    },
    {
      "cell_type": "code",
      "source": [
        "Validation.shape"
      ],
      "metadata": {
        "colab": {
          "base_uri": "https://localhost:8080/"
        },
        "id": "Hkro892aOmpv",
        "outputId": "53b7b9ae-1526-4fef-cc9d-0f44245e3db2"
      },
      "execution_count": null,
      "outputs": [
        {
          "output_type": "execute_result",
          "data": {
            "text/plain": [
              "(1207, 10)"
            ]
          },
          "metadata": {},
          "execution_count": 118
        }
      ]
    },
    {
      "cell_type": "code",
      "source": [
        "Test.shape"
      ],
      "metadata": {
        "colab": {
          "base_uri": "https://localhost:8080/"
        },
        "id": "4Vk8AGXAO8f1",
        "outputId": "38fb3d82-746f-4126-ec8c-adfffbeebbe2"
      },
      "execution_count": null,
      "outputs": [
        {
          "output_type": "execute_result",
          "data": {
            "text/plain": [
              "(302, 2)"
            ]
          },
          "metadata": {},
          "execution_count": 24
        }
      ]
    },
    {
      "cell_type": "markdown",
      "source": [
        "# Reset Validation & Test Dataset indices. Save the 'Validation' & 'Test' in xlsx"
      ],
      "metadata": {
        "id": "MIBK1Hkpz273"
      }
    },
    {
      "cell_type": "code",
      "source": [
        "Validation.head()"
      ],
      "metadata": {
        "id": "Behvz3BZzzy4"
      },
      "execution_count": null,
      "outputs": []
    },
    {
      "cell_type": "code",
      "source": [
        "Test.head()"
      ],
      "metadata": {
        "id": "cMmcA9Kjz76Q"
      },
      "execution_count": null,
      "outputs": []
    },
    {
      "cell_type": "code",
      "source": [
        "Validation = Validation.reset_index(drop=True)"
      ],
      "metadata": {
        "id": "vIgeTvBv0HMY"
      },
      "execution_count": null,
      "outputs": []
    },
    {
      "cell_type": "code",
      "source": [
        "Test = Test.reset_index(drop=True)"
      ],
      "metadata": {
        "id": "4PvcnRiR0Jyf"
      },
      "execution_count": null,
      "outputs": []
    },
    {
      "cell_type": "code",
      "source": [
        "Test.to_excel(r'Reddit_test_dataset.xlsx', index = False) #Exporting the test dataset for medical practitioners to manually annotate it"
      ],
      "metadata": {
        "id": "-98sYQoXu2mU"
      },
      "execution_count": null,
      "outputs": []
    },
    {
      "cell_type": "code",
      "source": [
        "Validation.to_excel(r'/content/drive/MyDrive/Reddit_validation_dataset.xlsx', index = False)"
      ],
      "metadata": {
        "id": "7qG74a7CHZxM"
      },
      "execution_count": null,
      "outputs": []
    },
    {
      "cell_type": "markdown",
      "source": [
        "# Few Amendments\n",
        "In the previous sections, I had removed the text that did not contain keywords. But our goal is to see how pre-trained model would classify for real dataset. So, do not remove the text.\n",
        "\n",
        "The data has already been split into validation & test. Test dataset is shared with medical practitioners for manual annotation. So, I am going to adopt a work-around. I will split the (2985-1509) data into validation and test. This way, the previous dataset remains untouched.\n",
        "\n"
      ],
      "metadata": {
        "id": "0AOzdeDhvJoB"
      }
    },
    {
      "cell_type": "code",
      "source": [
        "2985-1509"
      ],
      "metadata": {
        "colab": {
          "base_uri": "https://localhost:8080/"
        },
        "id": "5uSUbGSxvJP0",
        "outputId": "0f9665f9-f10e-4a1b-b992-08a6fb9647ba"
      },
      "execution_count": null,
      "outputs": [
        {
          "output_type": "execute_result",
          "data": {
            "text/plain": [
              "1476"
            ]
          },
          "metadata": {},
          "execution_count": 3
        }
      ]
    },
    {
      "cell_type": "code",
      "source": [
        "# I ran only few cells from top to the point where df does not contain duplicates & NaN\n",
        "df.shape"
      ],
      "metadata": {
        "colab": {
          "base_uri": "https://localhost:8080/"
        },
        "id": "Fi1rkcH-wiJG",
        "outputId": "50a8d477-7fbe-4065-b665-329a25ceb91a"
      },
      "execution_count": null,
      "outputs": [
        {
          "output_type": "execute_result",
          "data": {
            "text/plain": [
              "(2985, 2)"
            ]
          },
          "metadata": {},
          "execution_count": 14
        }
      ]
    },
    {
      "cell_type": "code",
      "source": [
        "# Let's store it in a new dataframe\n",
        "df_all_data = df"
      ],
      "metadata": {
        "id": "WVb3SriFxKDj"
      },
      "execution_count": null,
      "outputs": []
    },
    {
      "cell_type": "code",
      "source": [
        "df_all_data.head()"
      ],
      "metadata": {
        "id": "sQdf4TTux8Pc"
      },
      "execution_count": null,
      "outputs": []
    },
    {
      "cell_type": "code",
      "source": [
        "# df here is the keywords based filtering.\n",
        "df.shape"
      ],
      "metadata": {
        "colab": {
          "base_uri": "https://localhost:8080/"
        },
        "id": "8gGr37QjxZQ9",
        "outputId": "0a7eda05-2db2-41b9-cdef-3033850237e0"
      },
      "execution_count": null,
      "outputs": [
        {
          "output_type": "execute_result",
          "data": {
            "text/plain": [
              "(1509, 2)"
            ]
          },
          "metadata": {},
          "execution_count": 21
        }
      ]
    },
    {
      "cell_type": "code",
      "source": [
        "df_filtered = df"
      ],
      "metadata": {
        "id": "vFsgakGNxniF"
      },
      "execution_count": null,
      "outputs": []
    },
    {
      "cell_type": "code",
      "source": [
        "df_filtered = df_filtered.reset_index(drop=True)"
      ],
      "metadata": {
        "id": "Jy7ulaLMyCyS"
      },
      "execution_count": null,
      "outputs": []
    },
    {
      "cell_type": "code",
      "source": [
        "df_filtered.head()"
      ],
      "metadata": {
        "id": "nwqSLRMrxp6q"
      },
      "execution_count": null,
      "outputs": []
    },
    {
      "cell_type": "code",
      "source": [
        "i1 = pd.MultiIndex.from_frame(df_all_data)\n",
        "i2 = pd.MultiIndex.from_frame(df_filtered)\n",
        "df_difference = df_all_data[~i1.isin(i2)]"
      ],
      "metadata": {
        "id": "SNnoKVcdyPPt"
      },
      "execution_count": null,
      "outputs": []
    },
    {
      "cell_type": "code",
      "source": [
        "# This length should be 1476 (=2985-1509)\n",
        "len(df_difference)"
      ],
      "metadata": {
        "colab": {
          "base_uri": "https://localhost:8080/"
        },
        "id": "AtfAFAUUyvMD",
        "outputId": "d0ebac00-3eff-4df1-8307-fbf152a1272a"
      },
      "execution_count": null,
      "outputs": [
        {
          "output_type": "execute_result",
          "data": {
            "text/plain": [
              "1476"
            ]
          },
          "metadata": {},
          "execution_count": 32
        }
      ]
    },
    {
      "cell_type": "code",
      "source": [
        "df_difference"
      ],
      "metadata": {
        "id": "w9AZ2NdizO60"
      },
      "execution_count": null,
      "outputs": []
    },
    {
      "cell_type": "code",
      "source": [
        "df_difference = df_difference.reset_index(drop=True)"
      ],
      "metadata": {
        "id": "SJ782RSuzTPr"
      },
      "execution_count": null,
      "outputs": []
    },
    {
      "cell_type": "markdown",
      "source": [
        "# Splitting the df_difference into two dataset"
      ],
      "metadata": {
        "id": "nKAzsesNznjr"
      }
    },
    {
      "cell_type": "code",
      "source": [
        "from sklearn.model_selection import train_test_split"
      ],
      "metadata": {
        "id": "JF1drCi9zmGV"
      },
      "execution_count": null,
      "outputs": []
    },
    {
      "cell_type": "code",
      "source": [
        "Validation_diff , Test_diff = train_test_split(df_difference,test_size=0.2)"
      ],
      "metadata": {
        "id": "S1EODH29zmGW"
      },
      "execution_count": null,
      "outputs": []
    },
    {
      "cell_type": "code",
      "source": [
        "Validation_diff.shape"
      ],
      "metadata": {
        "colab": {
          "base_uri": "https://localhost:8080/"
        },
        "outputId": "d12bc15e-83cb-4039-9c74-dba3b8bc5ecb",
        "id": "gyNXB6hxzmGX"
      },
      "execution_count": null,
      "outputs": [
        {
          "output_type": "execute_result",
          "data": {
            "text/plain": [
              "(1180, 2)"
            ]
          },
          "metadata": {},
          "execution_count": 37
        }
      ]
    },
    {
      "cell_type": "code",
      "source": [
        "Test_diff.shape"
      ],
      "metadata": {
        "colab": {
          "base_uri": "https://localhost:8080/"
        },
        "outputId": "f567ad4c-4605-460f-9a86-901c64a1ee2a",
        "id": "Xk5h2op2zmGY"
      },
      "execution_count": null,
      "outputs": [
        {
          "output_type": "execute_result",
          "data": {
            "text/plain": [
              "(296, 2)"
            ]
          },
          "metadata": {},
          "execution_count": 38
        }
      ]
    },
    {
      "cell_type": "code",
      "source": [
        "302+296"
      ],
      "metadata": {
        "id": "8Y2w39Hl794-",
        "outputId": "39f5fa2a-d521-4f4e-ff3b-f9785981079c",
        "colab": {
          "base_uri": "https://localhost:8080/"
        }
      },
      "execution_count": null,
      "outputs": [
        {
          "output_type": "execute_result",
          "data": {
            "text/plain": [
              "598"
            ]
          },
          "metadata": {},
          "execution_count": 1
        }
      ]
    },
    {
      "cell_type": "code",
      "source": [
        "1180+296"
      ],
      "metadata": {
        "colab": {
          "base_uri": "https://localhost:8080/"
        },
        "id": "mYaP6C_lz08j",
        "outputId": "da99bd3c-0c4b-4258-8f94-60d9eadf3df8"
      },
      "execution_count": null,
      "outputs": [
        {
          "output_type": "execute_result",
          "data": {
            "text/plain": [
              "1476"
            ]
          },
          "metadata": {},
          "execution_count": 39
        }
      ]
    },
    {
      "cell_type": "code",
      "source": [
        "Validation_diff = Validation_diff.reset_index(drop=True)\n",
        "Test_diff = Test_diff.reset_index(drop=True)"
      ],
      "metadata": {
        "id": "AnHDdoQJz_G8"
      },
      "execution_count": null,
      "outputs": []
    },
    {
      "cell_type": "code",
      "source": [
        "# Save both datasets for future references\n",
        "Test_diff.to_excel(r'/content/drive/MyDrive/Reddit Migraine Dataset/2985 Dataset/Reddit_test_diff_dataset.xlsx', index = False) #Exporting the test dataset for medical practitioners to manually annotate it\n",
        "Validation_diff.to_excel(r'/content/drive/MyDrive/Reddit Migraine Dataset/2985 Dataset/Reddit_validation_diff_dataset.xlsx', index = False)"
      ],
      "metadata": {
        "id": "_RWYTlcEz_G9"
      },
      "execution_count": null,
      "outputs": []
    }
  ]
}