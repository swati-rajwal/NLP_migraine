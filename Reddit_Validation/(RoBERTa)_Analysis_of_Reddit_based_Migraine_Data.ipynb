{
  "cells": [
    {
      "cell_type": "markdown",
      "metadata": {
        "id": "x5A2OAfZwT0h"
      },
      "source": [
        "# Google Drive connection"
      ]
    },
    {
      "cell_type": "code",
      "execution_count": null,
      "metadata": {
        "colab": {
          "base_uri": "https://localhost:8080/"
        },
        "id": "VfeBP_uPhcau",
        "outputId": "de80e383-e3a3-4e45-c6cb-14765a59a80a"
      },
      "outputs": [
        {
          "name": "stdout",
          "output_type": "stream",
          "text": [
            "Drive already mounted at /content/drive; to attempt to forcibly remount, call drive.mount(\"/content/drive\", force_remount=True).\n"
          ]
        }
      ],
      "source": [
        "from google.colab import drive\n",
        "drive.mount('/content/drive')"
      ]
    },
    {
      "cell_type": "markdown",
      "metadata": {
        "id": "JtS8RPPC73Cj"
      },
      "source": [
        "# Read saved xlsx files"
      ]
    },
    {
      "cell_type": "code",
      "execution_count": null,
      "metadata": {
        "id": "Do82vg1h7c_9"
      },
      "outputs": [],
      "source": [
        "import pandas as pd\n",
        "import numpy as np\n",
        "pd.set_option('display.max_colwidth',None)   #this displays the dataframe in full width\n",
        "from sklearn.metrics import accuracy_score, f1_score, precision_score, recall_score, classification_report, confusion_matrix\n",
        "from sklearn.metrics import confusion_matrix\n",
        "from sklearn.metrics import classification_report\n",
        "from sklearn.metrics import roc_auc_score\n",
        "import sklearn\n",
        "from simpletransformers.classification import ClassificationModel\n",
        "import io\n",
        "from sklearn.model_selection import train_test_split\n",
        "\n",
        "import warnings\n",
        "warnings.filterwarnings('ignore')"
      ]
    },
    {
      "cell_type": "code",
      "execution_count": null,
      "metadata": {
        "id": "LmLaCg0c72SL"
      },
      "outputs": [],
      "source": [
        "Validation = pd.read_excel('/content/drive/MyDrive/Reddit Migraine Dataset/Swati folder/Reddit_validation_dataset.xlsx')"
      ]
    },
    {
      "cell_type": "code",
      "execution_count": null,
      "metadata": {
        "id": "qSNBldn8X2c5"
      },
      "outputs": [],
      "source": [
        "Validation_diff = pd.read_excel('/content/drive/MyDrive/Reddit Migraine Dataset/2985 Dataset/Reddit_validation_diff_dataset.xlsx')"
      ]
    },
    {
      "cell_type": "code",
      "execution_count": null,
      "metadata": {
        "id": "rgQ-zPpCZrV5"
      },
      "outputs": [],
      "source": [
        "Validation_test_diff = pd.read_excel('/content/drive/MyDrive/Reddit Migraine Dataset/2985 Dataset/Reddit_test_diff_dataset.xlsx')"
      ]
    },
    {
      "cell_type": "markdown",
      "metadata": {
        "id": "gdv2jjGvWKTY"
      },
      "source": [
        "# Removal of Stopwords & Punctuations"
      ]
    },
    {
      "cell_type": "code",
      "execution_count": null,
      "metadata": {
        "colab": {
          "base_uri": "https://localhost:8080/"
        },
        "id": "11P-S4Sl2gKN",
        "outputId": "1ff7e15a-a668-4977-c35e-4fb62a4a3a99"
      },
      "outputs": [
        {
          "name": "stderr",
          "output_type": "stream",
          "text": [
            "[nltk_data] Downloading package punkt to /root/nltk_data...\n",
            "[nltk_data]   Unzipping tokenizers/punkt.zip.\n"
          ]
        },
        {
          "data": {
            "text/plain": [
              "True"
            ]
          },
          "execution_count": 26,
          "metadata": {},
          "output_type": "execute_result"
        }
      ],
      "source": [
        "import nltk\n",
        "nltk.download('punkt')"
      ]
    },
    {
      "cell_type": "code",
      "execution_count": null,
      "metadata": {
        "colab": {
          "base_uri": "https://localhost:8080/"
        },
        "id": "_lLrBmkFHOt4",
        "outputId": "06274a22-ee6e-473a-97dd-719aaf0444f0"
      },
      "outputs": [
        {
          "name": "stderr",
          "output_type": "stream",
          "text": [
            "[nltk_data] Downloading package stopwords to /root/nltk_data...\n",
            "[nltk_data]   Unzipping corpora/stopwords.zip.\n"
          ]
        },
        {
          "data": {
            "text/plain": [
              "True"
            ]
          },
          "execution_count": 27,
          "metadata": {},
          "output_type": "execute_result"
        }
      ],
      "source": [
        "nltk.download('stopwords')"
      ]
    },
    {
      "cell_type": "code",
      "execution_count": null,
      "metadata": {
        "id": "Zkyxvh9bHLAF"
      },
      "outputs": [],
      "source": [
        "from nltk.corpus import stopwords\n",
        "stop = stopwords.words('english')"
      ]
    },
    {
      "cell_type": "code",
      "execution_count": null,
      "metadata": {
        "id": "K25RJSi0Z6r4"
      },
      "outputs": [],
      "source": [
        "Validation_diff['text_w/o_stopwords'] = Validation_diff['text'].apply(lambda x: ' '.join([word for word in x.split() if word not in (stop)]))\n",
        "Validation_diff['text_w/o_punctuations'] = Validation_diff['text_w/o_stopwords'].str.replace(r'[^\\w\\s]+', '')"
      ]
    },
    {
      "cell_type": "code",
      "execution_count": null,
      "metadata": {
        "id": "EAFg-jTBHMQd"
      },
      "outputs": [],
      "source": [
        "Validation['text_w/o_stopwords'] = Validation['text'].apply(lambda x: ' '.join([word for word in x.split() if word not in (stop)]))"
      ]
    },
    {
      "cell_type": "code",
      "execution_count": null,
      "metadata": {
        "id": "I1yj_XtSKRBE"
      },
      "outputs": [],
      "source": [
        "Validation['text_w/o_punctuations'] = Validation['text_w/o_stopwords'].str.replace(r'[^\\w\\s]+', '')"
      ]
    },
    {
      "cell_type": "code",
      "execution_count": null,
      "metadata": {
        "colab": {
          "base_uri": "https://localhost:8080/"
        },
        "id": "9xZbZDGNVyXj",
        "outputId": "93ab954d-aad5-42ef-de3d-200380659ea0"
      },
      "outputs": [
        {
          "data": {
            "text/plain": [
              "Int64Index([], dtype='int64')"
            ]
          },
          "execution_count": 15,
          "metadata": {},
          "output_type": "execute_result"
        }
      ],
      "source": [
        "Validation_diff[Validation_diff['text_w/o_punctuations'] == ''].index"
      ]
    },
    {
      "cell_type": "code",
      "execution_count": null,
      "metadata": {
        "colab": {
          "base_uri": "https://localhost:8080/"
        },
        "id": "9Sxe8ZXqJOP5",
        "outputId": "f4220253-2525-41b9-d60b-53433a0de331"
      },
      "outputs": [
        {
          "data": {
            "text/plain": [
              "(1180, 4)"
            ]
          },
          "execution_count": 106,
          "metadata": {},
          "output_type": "execute_result"
        }
      ],
      "source": [
        "Validation_diff.shape"
      ]
    },
    {
      "cell_type": "code",
      "execution_count": null,
      "metadata": {
        "id": "1DlZcED1JAKt"
      },
      "outputs": [],
      "source": [
        "Validation_diff.drop(Validation_diff.index[Validation_diff['id'] == 'li8y5a'], inplace=True) # This is a dirty entry and so should be deleted\n",
        "Validation_diff.drop(Validation_diff.index[Validation_diff['id'] == 'k00q2a'], inplace=True)  # This is a dirty entry and so should be deleted"
      ]
    },
    {
      "cell_type": "code",
      "execution_count": null,
      "metadata": {
        "colab": {
          "base_uri": "https://localhost:8080/"
        },
        "id": "d4y96aWXJ2-n",
        "outputId": "2fd1ae90-c776-4923-a43b-061be6c75649"
      },
      "outputs": [
        {
          "data": {
            "text/plain": [
              "(1178, 4)"
            ]
          },
          "execution_count": 108,
          "metadata": {},
          "output_type": "execute_result"
        }
      ],
      "source": [
        "Validation_diff.shape"
      ]
    },
    {
      "cell_type": "code",
      "execution_count": null,
      "metadata": {
        "id": "Vmi5M88NJ8ws"
      },
      "outputs": [],
      "source": [
        "Validation_diff = Validation_diff.reset_index(drop=True)"
      ]
    },
    {
      "cell_type": "markdown",
      "metadata": {
        "id": "gamctfaVWPJh"
      },
      "source": [
        "# Split large sentences into sub-sentences"
      ]
    },
    {
      "cell_type": "code",
      "execution_count": null,
      "metadata": {
        "id": "K25AEOzAM0Pz"
      },
      "outputs": [],
      "source": [
        "n = 128\n",
        "Validation['split_text'] = ''\n",
        "for i in range(len(Validation)):\n",
        "  current_text = Validation['text_w/o_punctuations'][i]\n",
        "  current_text = current_text.split()\n",
        "  current_text_split = [' '.join(current_text[j:j+n]) for j in range(0,len(current_text),n)]\n",
        "\n",
        "  Validation['split_text'][i] = current_text_split"
      ]
    },
    {
      "cell_type": "code",
      "execution_count": null,
      "metadata": {
        "id": "Yn7y9SkjY8B8"
      },
      "outputs": [],
      "source": [
        "n = 128\n",
        "Validation_diff['split_text'] = ''\n",
        "for i in range(len(Validation_diff)):\n",
        "  current_text = Validation_diff['text_w/o_punctuations'][i]\n",
        "  current_text = current_text.split()\n",
        "  current_text_split = [' '.join(current_text[j:j+n]) for j in range(0,len(current_text),n)]\n",
        "\n",
        "  Validation_diff['split_text'][i] = current_text_split"
      ]
    },
    {
      "cell_type": "markdown",
      "metadata": {
        "id": "h6SzYOnPQmxF"
      },
      "source": [
        "# Loading the Pre-trained Model"
      ]
    },
    {
      "cell_type": "code",
      "execution_count": null,
      "metadata": {
        "id": "f-Mmp7oWv4j_"
      },
      "outputs": [],
      "source": [
        "# Run following command to resolve \"ModuleNotFoundError: No module named 'simpletransformers'\" Error\n",
        "!pip install simpletransformers"
      ]
    },
    {
      "cell_type": "code",
      "execution_count": null,
      "metadata": {
        "id": "u6jYIPSPRHRQ"
      },
      "outputs": [],
      "source": [
        "# loading trained model\n",
        "import pickle\n",
        "with open('/content/drive/MyDrive/Trained_model.pkl', 'rb') as f:\n",
        "    model = pickle.load(f)"
      ]
    },
    {
      "cell_type": "markdown",
      "metadata": {
        "id": "WYw3I9qAWX03"
      },
      "source": [
        "# Model based prediction\n",
        "1. For each reddit text, model predicts class label\n",
        "2. In case of sub-texts, model predicts label for each sub-text and counts frequency of label occurence to find final label\n"
      ]
    },
    {
      "cell_type": "code",
      "execution_count": null,
      "metadata": {
        "id": "0feTLw2W-poZ"
      },
      "outputs": [],
      "source": [
        "Validation['predictions'] = ''\n",
        "Validation['Max_prediction'] = ''\n",
        "# Validation['prediction_w/_probability'] = ''\n",
        "# Validation['avg_prob_predictions_class0'] = ''\n",
        "# Validation['avg_prob_predictions_class1'] = ''"
      ]
    },
    {
      "cell_type": "code",
      "execution_count": null,
      "metadata": {
        "id": "Ze00h20N1Rxo"
      },
      "outputs": [],
      "source": [
        "Validation_diff['predictions'] = ''\n",
        "Validation_diff['Max_prediction'] = ''"
      ]
    },
    {
      "cell_type": "code",
      "execution_count": null,
      "metadata": {
        "id": "4eKocX0sOkjb"
      },
      "outputs": [],
      "source": [
        "# FOR VALIDATION DATASET\n",
        "for i in range(len(Validation)):\n",
        "  print(\"***********LOOP NO:\",i,\"BEGINS***********\")\n",
        "  curr_texts=Validation['split_text'][i]\n",
        "  predictions, raw_outputs = model.predict(curr_texts)\n",
        "  Validation['predictions'][i] = predictions\n",
        "\n",
        "  if (((predictions == 1).sum() > (predictions == 0).sum()) or ((predictions == 1).sum() == (predictions == 0).sum())):\n",
        "    Validation['Max_prediction'][i] = 1\n",
        "  else:\n",
        "    Validation['Max_prediction'][i] = 0\n",
        "\n",
        "  # probas=np.asarray(raw_outputs)\n",
        "  # probas=softmax(probas,axis=1)\n",
        "  # Validation['prediction_w/_probability'][i]=probas\n",
        "\n",
        "  # probas_class_0,probas_class_1 = np.split(probas,2,axis=1)\n",
        "  # probas_class_0 = probas_class_0.flatten()\n",
        "  # probas_class_1 = probas_class_1.flatten()\n",
        "  # Validation['avg_prob_predictions_class0'][i] = mean(probas_class_0)\n",
        "  # Validation['avg_prob_predictions_class1'][i] = mean(probas_class_1)\n",
        "  print(\"***********LOOP NO:\",i,\"ENDS HERE***********\\n\\n\")"
      ]
    },
    {
      "cell_type": "code",
      "execution_count": null,
      "metadata": {
        "id": "K6nxqh5n1Zhv"
      },
      "outputs": [],
      "source": [
        "# FOR VALIDATION_DIFF DATASET\n",
        "for i in range(len(Validation_diff)):\n",
        "  print(\"***********LOOP NO:\",i,\"BEGINS***********\")\n",
        "  curr_texts=Validation_diff['split_text'][i]\n",
        "  predictions, raw_outputs = model.predict(curr_texts)\n",
        "  Validation_diff['predictions'][i] = predictions\n",
        "\n",
        "  if (((predictions == 1).sum() > (predictions == 0).sum()) or ((predictions == 1).sum() == (predictions == 0).sum())):\n",
        "    Validation_diff['Max_prediction'][i] = 1\n",
        "  else:\n",
        "    Validation_diff['Max_prediction'][i] = 0\n",
        "  print(\"***********LOOP NO:\",i,\"ENDS HERE***********\\n\\n\")"
      ]
    },
    {
      "cell_type": "code",
      "execution_count": null,
      "metadata": {
        "colab": {
          "base_uri": "https://localhost:8080/"
        },
        "id": "-SBUeKjiCLUv",
        "outputId": "d814a7c4-097d-4df6-ccfd-e914d1767a76"
      },
      "outputs": [
        {
          "data": {
            "text/plain": [
              "0    195\n",
              "1    101\n",
              "Name: Max_prediction, dtype: int64"
            ]
          },
          "execution_count": 21,
          "metadata": {},
          "output_type": "execute_result"
        }
      ],
      "source": [
        "Validation_diff['Max_prediction'].value_counts()"
      ]
    },
    {
      "cell_type": "code",
      "execution_count": null,
      "metadata": {
        "id": "vzdC8nPcVtMp"
      },
      "outputs": [],
      "source": [
        "Validation.to_excel(r'/content/drive/MyDrive/Reddit Migraine Dataset/Swati folder/Predicted_Reddit_validation_dataset2.xlsx', index = False) #Exporting the validation dataset with predictions"
      ]
    },
    {
      "cell_type": "code",
      "execution_count": null,
      "metadata": {
        "id": "wfOfC0OV1quw"
      },
      "outputs": [],
      "source": [
        "Validation_diff.to_excel(r'/content/drive/MyDrive/Reddit Migraine Dataset/2985 Dataset/Predicted_Reddit_validation_diff_dataset.xlsx', index = False) #Exporting the validation dataset with predictions"
      ]
    },
    {
      "cell_type": "markdown",
      "metadata": {
        "id": "prkx2C1u3ziV"
      },
      "source": [
        "# Test Dataset\n",
        "Here we have manually annotated dataset which we are not going to test against the model predictions"
      ]
    },
    {
      "cell_type": "code",
      "execution_count": null,
      "metadata": {
        "id": "8C-dHG7V357V"
      },
      "outputs": [],
      "source": [
        "Test_df = pd.read_excel('/content/drive/MyDrive/Reddit Migraine Dataset/Reddit_test_dataset Manual Annotation.xlsx')"
      ]
    },
    {
      "cell_type": "code",
      "execution_count": null,
      "metadata": {
        "colab": {
          "base_uri": "https://localhost:8080/"
        },
        "id": "_yRr0MOwgdA_",
        "outputId": "31b64999-07a8-497f-fb74-b632e3cd398e"
      },
      "outputs": [
        {
          "data": {
            "text/plain": [
              "Index(['id', 'text', 'Y or N Self-Reporting Migraine'], dtype='object')"
            ]
          },
          "execution_count": 54,
          "metadata": {},
          "output_type": "execute_result"
        }
      ],
      "source": [
        "Test_df.columns"
      ]
    },
    {
      "cell_type": "code",
      "execution_count": null,
      "metadata": {
        "colab": {
          "base_uri": "https://localhost:8080/"
        },
        "id": "U5zm_zbZgmk1",
        "outputId": "3e73d836-a572-4f0a-f1cb-8f6100529e12"
      },
      "outputs": [
        {
          "data": {
            "text/plain": [
              "302"
            ]
          },
          "execution_count": 55,
          "metadata": {},
          "output_type": "execute_result"
        }
      ],
      "source": [
        "len(Test_df)"
      ]
    },
    {
      "cell_type": "code",
      "execution_count": null,
      "metadata": {
        "colab": {
          "base_uri": "https://localhost:8080/"
        },
        "id": "HfycpU3Egqpc",
        "outputId": "10df7ded-26ad-4983-eb45-4ba08020f31f"
      },
      "outputs": [
        {
          "data": {
            "text/plain": [
              "Y    226\n",
              "N     76\n",
              "Name: Y or N Self-Reporting Migraine, dtype: int64"
            ]
          },
          "execution_count": 56,
          "metadata": {},
          "output_type": "execute_result"
        }
      ],
      "source": [
        "Test_df['Y or N Self-Reporting Migraine'].value_counts()"
      ]
    },
    {
      "cell_type": "code",
      "execution_count": null,
      "metadata": {
        "id": "kQFObHsMgh6d"
      },
      "outputs": [],
      "source": [
        "# Convert all 'Y' to 1 and 'N' to 0\n",
        "Test_df['Y or N Self-Reporting Migraine'].replace({'Y':1,'N':0},inplace=True)"
      ]
    },
    {
      "cell_type": "code",
      "execution_count": null,
      "metadata": {
        "colab": {
          "base_uri": "https://localhost:8080/"
        },
        "id": "qQ_qpIog7WII",
        "outputId": "d9fa26f2-cfc0-46be-9e74-38cc7a47f856"
      },
      "outputs": [
        {
          "data": {
            "text/plain": [
              "1    226\n",
              "0     76\n",
              "Name: Y or N Self-Reporting Migraine, dtype: int64"
            ]
          },
          "execution_count": 58,
          "metadata": {},
          "output_type": "execute_result"
        }
      ],
      "source": [
        "Test_df['Y or N Self-Reporting Migraine'].value_counts()"
      ]
    },
    {
      "cell_type": "code",
      "execution_count": null,
      "metadata": {
        "id": "Ztu4_gfY7ZIY"
      },
      "outputs": [],
      "source": [
        "Y_test=Test_df['Y or N Self-Reporting Migraine']"
      ]
    },
    {
      "cell_type": "code",
      "execution_count": null,
      "metadata": {
        "id": "aEUt3Y-q8Vpn"
      },
      "outputs": [],
      "source": [
        "test_text=list(Test_df['text'])"
      ]
    },
    {
      "cell_type": "code",
      "execution_count": null,
      "metadata": {
        "colab": {
          "base_uri": "https://localhost:8080/",
          "height": 81,
          "referenced_widgets": [
            "823d03d011324c8c8ccd41d4a0326f36",
            "5348b773f1b149a7988109e86e71855e",
            "42f3becfb6f1426fa31737e33ccaf709",
            "6b483a063d154efd9c087ff76fe1798b",
            "c069788f33be46979bf1181dadd9c001",
            "57e8b2ce23fa4305870f15c9cf4e63a5",
            "1b63838d8c7d45658c9026ba12cabddd",
            "4fb9ad1f472e4f44b282a1ca079c3265",
            "4f1dc1a0583f46e9bad1b9792a8cbd2f",
            "68f6c7eb44fb4881b5519ca0303812ad",
            "c49959d30ba14fc2b94fb9b4b047703d",
            "aa14d1da8a284f24a8dbdf04935360f5",
            "1cc44c57621441a880884664c043c837",
            "4d907c68f8134153a5417b95c2ef18eb",
            "2d59d09fe7f34e2c839844cc15364bc4",
            "f7ad7cb0f93f4b5b90f21ae9ac8b7d57",
            "fac67fd7ec374b159e5a740b5110a087",
            "3d9fc30dd4674925a3171cd3dce9cce2",
            "7da46c24bad14777b51ee008c452fe51",
            "80996be337bb41cdb5de2e851e57bd0b",
            "448c34d1365d48518a5ffe21d8edbc83",
            "8cf4a12ae7904653a7dad0f915b18873"
          ]
        },
        "id": "sCLYsdWE8bwP",
        "outputId": "d1dc8f6a-2f71-4ccd-c5e0-b41ed553fb09"
      },
      "outputs": [
        {
          "data": {
            "application/vnd.jupyter.widget-view+json": {
              "model_id": "823d03d011324c8c8ccd41d4a0326f36",
              "version_major": 2,
              "version_minor": 0
            },
            "text/plain": [
              "  0%|          | 0/302 [00:00<?, ?it/s]"
            ]
          },
          "metadata": {},
          "output_type": "display_data"
        },
        {
          "data": {
            "application/vnd.jupyter.widget-view+json": {
              "model_id": "aa14d1da8a284f24a8dbdf04935360f5",
              "version_major": 2,
              "version_minor": 0
            },
            "text/plain": [
              "  0%|          | 0/38 [00:00<?, ?it/s]"
            ]
          },
          "metadata": {},
          "output_type": "display_data"
        }
      ],
      "source": [
        "predictions, raw_outputs = model.predict(test_text)"
      ]
    },
    {
      "cell_type": "code",
      "execution_count": null,
      "metadata": {
        "id": "1xl5Pnwr8vd4"
      },
      "outputs": [],
      "source": [
        "import numpy as np\n",
        "\n",
        "def sigmoid(x):\n",
        "    return 1.0/(1 + np.exp(-x))\n",
        "\n",
        "def softmax(x, axis=None):\n",
        "    x = x - x.max(axis=axis, keepdims=True)\n",
        "    y = np.exp(x)\n",
        "    return y / y.sum(axis=axis, keepdims=True)"
      ]
    },
    {
      "cell_type": "code",
      "execution_count": null,
      "metadata": {
        "id": "FvTcFw6c8gyH"
      },
      "outputs": [],
      "source": [
        "pre=pd.DataFrame(predictions,columns = {'0':'Pre'})\n",
        "probas = np.asarray(raw_outputs)\n",
        "probas=softmax(probas, axis=1)\n",
        "probas"
      ]
    },
    {
      "cell_type": "code",
      "execution_count": null,
      "metadata": {
        "id": "fwgb_6RZ9IKK"
      },
      "outputs": [],
      "source": [
        "# This is a one time activity\n",
        "# !pip install scikit-plot"
      ]
    },
    {
      "cell_type": "code",
      "execution_count": null,
      "metadata": {
        "colab": {
          "base_uri": "https://localhost:8080/",
          "height": 496
        },
        "id": "9WhlfB7p8iYA",
        "outputId": "6c773d2b-1c88-4fd7-b8db-eff0477cdf73"
      },
      "outputs": [
        {
          "name": "stdout",
          "output_type": "stream",
          "text": [
            "              precision    recall  f1-score   support\n",
            "\n",
            "           0       0.87      0.72      0.79        76\n",
            "           1       0.91      0.96      0.94       226\n",
            "\n",
            "    accuracy                           0.90       302\n",
            "   macro avg       0.89      0.84      0.86       302\n",
            "weighted avg       0.90      0.90      0.90       302\n",
            "\n",
            "overall Accuracy: 0.9039735099337748\n"
          ]
        },
        {
          "data": {
            "image/png": "[encoded data removed]",
            "text/plain": [
              "<Figure size 432x288 with 2 Axes>"
            ]
          },
          "metadata": {
            "needs_background": "light"
          },
          "output_type": "display_data"
        },
        {
          "name": "stdout",
          "output_type": "stream",
          "text": [
            "--------------------------\n"
          ]
        }
      ],
      "source": [
        "import scikitplot\n",
        "import matplotlib.pyplot as plt\n",
        "\n",
        "Y_test=Y_test\n",
        "predicted= pre\n",
        "\n",
        "cm = confusion_matrix(Y_test, predicted)\n",
        "accuracy =accuracy_score(Y_test, predicted)\n",
        "report = classification_report(Y_test, predicted)\n",
        "print(report)\n",
        "print('overall Accuracy:',accuracy)\n",
        "scikitplot.metrics.plot_confusion_matrix(Y_test,  predicted)\n",
        "plt.show()\n",
        "\n",
        "print('--------------------------')"
      ]
    },
    {
      "cell_type": "code",
      "execution_count": null,
      "metadata": {
        "id": "2zCXQjV_4lx5"
      },
      "outputs": [],
      "source": [
        "Test_df = pd.concat([Test_df, predicted], axis=1)"
      ]
    },
    {
      "cell_type": "code",
      "execution_count": null,
      "metadata": {
        "id": "WKAqCQLs4wlS"
      },
      "outputs": [],
      "source": [
        "Test_df.rename(columns = {'Y or N Self-Reporting Migraine':'Manual labels', '0':'Model predicted label'}, inplace = True)"
      ]
    },
    {
      "cell_type": "code",
      "execution_count": null,
      "metadata": {
        "colab": {
          "base_uri": "https://localhost:8080/"
        },
        "id": "8xoDpKaZ43L3",
        "outputId": "9675ef50-c129-4cf1-f3bc-9eba7978ae47"
      },
      "outputs": [
        {
          "data": {
            "text/plain": [
              "1    239\n",
              "0     63\n",
              "Name: Model predicted label, dtype: int64"
            ]
          },
          "execution_count": 67,
          "metadata": {},
          "output_type": "execute_result"
        }
      ],
      "source": [
        "Test_df['Model predicted label'].value_counts() #this is what model predicted"
      ]
    },
    {
      "cell_type": "code",
      "execution_count": null,
      "metadata": {
        "colab": {
          "base_uri": "https://localhost:8080/"
        },
        "id": "-32H6R6Y46MD",
        "outputId": "17970de5-36d8-4b98-b588-b848c4f1d4d0"
      },
      "outputs": [
        {
          "data": {
            "text/plain": [
              "1    226\n",
              "0     76\n",
              "Name: Manual labels, dtype: int64"
            ]
          },
          "execution_count": 68,
          "metadata": {},
          "output_type": "execute_result"
        }
      ],
      "source": [
        "Test_df['Manual labels'].value_counts() #this is what practitioners say"
      ]
    },
    {
      "cell_type": "code",
      "execution_count": null,
      "metadata": {
        "id": "bS5iY2zg474T"
      },
      "outputs": [],
      "source": [
        "Test_df.to_excel(r'/content/drive/MyDrive/Reddit Migraine Dataset/Results by RoBERTa Model/roberta_predicted_test_reddit_dataset.xlsx', index = False)"
      ]
    },
    {
      "cell_type": "markdown",
      "metadata": {
        "id": "S8cC4bDyIdr8"
      },
      "source": [
        "# Test Dataset by dividing into sub texts"
      ]
    },
    {
      "cell_type": "code",
      "execution_count": null,
      "metadata": {
        "id": "y6PNcHWZ_TXe"
      },
      "outputs": [],
      "source": [
        "# Test_df['text_w/o_stopwords'] = Test_df['text'].apply(lambda x: ' '.join([word for word in x.split() if word not in (stop)]))\n",
        "# Test_df['text_w/o_punctuations'] = Test_df['text_w/o_stopwords'].str.replace(r'[^\\w\\s]+', '')"
      ]
    },
    {
      "cell_type": "code",
      "execution_count": null,
      "metadata": {
        "colab": {
          "base_uri": "https://localhost:8080/"
        },
        "id": "o8dK2W5k_N1R",
        "outputId": "2855e7fe-1f89-42d1-a890-3cc4e27890f6"
      },
      "outputs": [
        {
          "name": "stderr",
          "output_type": "stream",
          "text": [
            "/usr/local/lib/python3.7/dist-packages/ipykernel_launcher.py:8: SettingWithCopyWarning: \n",
            "A value is trying to be set on a copy of a slice from a DataFrame\n",
            "\n",
            "See the caveats in the documentation: https://pandas.pydata.org/pandas-docs/stable/user_guide/indexing.html#returning-a-view-versus-a-copy\n",
            "  \n"
          ]
        }
      ],
      "source": [
        "n = 128\n",
        "Test_df['split_text'] = ''\n",
        "for i in range(len(Test_df)):\n",
        "  current_text = Test_df['text'][i]\n",
        "  current_text = current_text.split()\n",
        "  current_text_split = [' '.join(current_text[j:j+n]) for j in range(0,len(current_text),n)]\n",
        "\n",
        "  Test_df['split_text'][i] = current_text_split"
      ]
    },
    {
      "cell_type": "code",
      "execution_count": null,
      "metadata": {
        "id": "g6AFyGaE-_br"
      },
      "outputs": [],
      "source": [
        "# Divide the text into small subtexts\n",
        "Test_df['predictions']=''\n",
        "Test_df['Max_prediction']=''\n",
        "\n",
        "for i in range(len(Test_df)):\n",
        "  print(\"***********LOOP NO:\",i,\"BEGINS***********\")\n",
        "  curr_texts=Test_df['split_text'][i]\n",
        "  predictions, raw_outputs = model.predict(curr_texts)\n",
        "  Test_df['predictions'][i] = predictions\n",
        "\n",
        "  if (((predictions == 1).sum() > (predictions == 0).sum()) or ((predictions == 1).sum() == (predictions == 0).sum())):\n",
        "    Test_df['Max_prediction'][i] = 1\n",
        "  else:\n",
        "    Test_df['Max_prediction'][i] = 0\n",
        "\n",
        "  print(\"***********LOOP NO:\",i,\"ENDS HERE***********\\n\\n\")"
      ]
    },
    {
      "cell_type": "code",
      "execution_count": null,
      "metadata": {
        "colab": {
          "base_uri": "https://localhost:8080/",
          "height": 496
        },
        "id": "ziD0FR38I8fJ",
        "outputId": "29ebb3a4-d29e-441c-8347-f6b611d5bbc5"
      },
      "outputs": [
        {
          "name": "stdout",
          "output_type": "stream",
          "text": [
            "              precision    recall  f1-score   support\n",
            "\n",
            "           0       0.83      0.72      0.77        76\n",
            "           1       0.91      0.95      0.93       226\n",
            "\n",
            "    accuracy                           0.89       302\n",
            "   macro avg       0.87      0.84      0.85       302\n",
            "weighted avg       0.89      0.89      0.89       302\n",
            "\n",
            "overall Accuracy: 0.8940397350993378\n"
          ]
        },
        {
          "data": {
            "image/png": "[encoded data removed]",
            "text/plain": [
              "<Figure size 432x288 with 2 Axes>"
            ]
          },
          "metadata": {
            "needs_background": "light"
          },
          "output_type": "display_data"
        },
        {
          "name": "stdout",
          "output_type": "stream",
          "text": [
            "--------------------------\n"
          ]
        }
      ],
      "source": [
        "import scikitplot\n",
        "import matplotlib.pyplot as plt\n",
        "\n",
        "Y_test=Y_test\n",
        "predicted= list(Test_df['Max_prediction'])\n",
        "\n",
        "cm = confusion_matrix(Y_test, predicted)\n",
        "accuracy =accuracy_score(Y_test, predicted)\n",
        "report = classification_report(Y_test, predicted)\n",
        "print(report)\n",
        "print('overall Accuracy:',accuracy)\n",
        "scikitplot.metrics.plot_confusion_matrix(Y_test,  predicted)\n",
        "plt.show()\n",
        "\n",
        "print('--------------------------')"
      ]
    },
    {
      "cell_type": "code",
      "execution_count": null,
      "metadata": {
        "id": "-52lXzOL6fdg"
      },
      "outputs": [],
      "source": [
        "Test_df.rename(columns = {'Max_prediction':'Model prediction for split text'}, inplace = True)"
      ]
    },
    {
      "cell_type": "code",
      "execution_count": null,
      "metadata": {
        "colab": {
          "base_uri": "https://localhost:8080/"
        },
        "id": "qmTbCuQf6fdh",
        "outputId": "e1146dfe-92c6-4e64-8133-33025ac24173"
      },
      "outputs": [
        {
          "data": {
            "text/plain": [
              "1    239\n",
              "0     63\n",
              "Name: Model predicted label, dtype: int64"
            ]
          },
          "execution_count": 74,
          "metadata": {},
          "output_type": "execute_result"
        }
      ],
      "source": [
        "Test_df['Model predicted label'].value_counts() #this is what model predicted"
      ]
    },
    {
      "cell_type": "code",
      "execution_count": null,
      "metadata": {
        "colab": {
          "base_uri": "https://localhost:8080/"
        },
        "id": "2JZlM_Zx67eE",
        "outputId": "010da2b1-a090-46ad-8c82-e280f1556941"
      },
      "outputs": [
        {
          "data": {
            "text/plain": [
              "1    236\n",
              "0     66\n",
              "Name: Model prediction for split text, dtype: int64"
            ]
          },
          "execution_count": 75,
          "metadata": {},
          "output_type": "execute_result"
        }
      ],
      "source": [
        "Test_df['Model prediction for split text'].value_counts() #this is what model predicted"
      ]
    },
    {
      "cell_type": "code",
      "execution_count": null,
      "metadata": {
        "colab": {
          "base_uri": "https://localhost:8080/"
        },
        "id": "h9UjxHdT6fdh",
        "outputId": "023b759a-41f1-484b-8ed3-cc3cd861a6ac"
      },
      "outputs": [
        {
          "data": {
            "text/plain": [
              "1    226\n",
              "0     76\n",
              "Name: Manual labels, dtype: int64"
            ]
          },
          "execution_count": 76,
          "metadata": {},
          "output_type": "execute_result"
        }
      ],
      "source": [
        "Test_df['Manual labels'].value_counts() #this is what practitioners say"
      ]
    },
    {
      "cell_type": "code",
      "execution_count": null,
      "metadata": {
        "id": "pjHEoRmM6fdh"
      },
      "outputs": [],
      "source": [
        "Test_df.to_excel(r'/content/drive/MyDrive/Reddit Migraine Dataset/Results by RoBERTa Model/roberta_predicted_test_reddit_dataset.xlsx', index = False)"
      ]
    }
  ],
  "metadata": {
    "colab": {
      "provenance": []
    },
    "kernelspec": {
      "display_name": "Python 3",
      "name": "python3"
    },
    "language_info": {
      "name": "python"
    },
    "widgets": {
      "application/vnd.jupyter.widget-state+json": {
        "1b63838d8c7d45658c9026ba12cabddd": {
          "model_module": "@jupyter-widgets/controls",
          "model_module_version": "1.5.0",
          "model_name": "DescriptionStyleModel",
          "state": {
            "_model_module": "@jupyter-widgets/controls",
            "_model_module_version": "1.5.0",
            "_model_name": "DescriptionStyleModel",
            "_view_count": null,
            "_view_module": "@jupyter-widgets/base",
            "_view_module_version": "1.2.0",
            "_view_name": "StyleView",
            "description_width": ""
          }
        },
        "1cc44c57621441a880884664c043c837": {
          "model_module": "@jupyter-widgets/controls",
          "model_module_version": "1.5.0",
          "model_name": "HTMLModel",
          "state": {
            "_dom_classes": [],
            "_model_module": "@jupyter-widgets/controls",
            "_model_module_version": "1.5.0",
            "_model_name": "HTMLModel",
            "_view_count": null,
            "_view_module": "@jupyter-widgets/controls",
            "_view_module_version": "1.5.0",
            "_view_name": "HTMLView",
            "description": "",
            "description_tooltip": null,
            "layout": "IPY_MODEL_fac67fd7ec374b159e5a740b5110a087",
            "placeholder": "​",
            "style": "IPY_MODEL_3d9fc30dd4674925a3171cd3dce9cce2",
            "value": "100%"
          }
        },
        "2d59d09fe7f34e2c839844cc15364bc4": {
          "model_module": "@jupyter-widgets/controls",
          "model_module_version": "1.5.0",
          "model_name": "HTMLModel",
          "state": {
            "_dom_classes": [],
            "_model_module": "@jupyter-widgets/controls",
            "_model_module_version": "1.5.0",
            "_model_name": "HTMLModel",
            "_view_count": null,
            "_view_module": "@jupyter-widgets/controls",
            "_view_module_version": "1.5.0",
            "_view_name": "HTMLView",
            "description": "",
            "description_tooltip": null,
            "layout": "IPY_MODEL_448c34d1365d48518a5ffe21d8edbc83",
            "placeholder": "​",
            "style": "IPY_MODEL_8cf4a12ae7904653a7dad0f915b18873",
            "value": " 38/38 [02:08&lt;00:00,  3.09s/it]"
          }
        },
        "3d9fc30dd4674925a3171cd3dce9cce2": {
          "model_module": "@jupyter-widgets/controls",
          "model_module_version": "1.5.0",
          "model_name": "DescriptionStyleModel",
          "state": {
            "_model_module": "@jupyter-widgets/controls",
            "_model_module_version": "1.5.0",
            "_model_name": "DescriptionStyleModel",
            "_view_count": null,
            "_view_module": "@jupyter-widgets/base",
            "_view_module_version": "1.2.0",
            "_view_name": "StyleView",
            "description_width": ""
          }
        },
        "42f3becfb6f1426fa31737e33ccaf709": {
          "model_module": "@jupyter-widgets/controls",
          "model_module_version": "1.5.0",
          "model_name": "FloatProgressModel",
          "state": {
            "_dom_classes": [],
            "_model_module": "@jupyter-widgets/controls",
            "_model_module_version": "1.5.0",
            "_model_name": "FloatProgressModel",
            "_view_count": null,
            "_view_module": "@jupyter-widgets/controls",
            "_view_module_version": "1.5.0",
            "_view_name": "ProgressView",
            "bar_style": "danger",
            "description": "",
            "description_tooltip": null,
            "layout": "IPY_MODEL_4fb9ad1f472e4f44b282a1ca079c3265",
            "max": 302,
            "min": 0,
            "orientation": "horizontal",
            "style": "IPY_MODEL_4f1dc1a0583f46e9bad1b9792a8cbd2f",
            "value": 1
          }
        },
        "448c34d1365d48518a5ffe21d8edbc83": {
          "model_module": "@jupyter-widgets/base",
          "model_module_version": "1.2.0",
          "model_name": "LayoutModel",
          "state": {
            "_model_module": "@jupyter-widgets/base",
            "_model_module_version": "1.2.0",
            "_model_name": "LayoutModel",
            "_view_count": null,
            "_view_module": "@jupyter-widgets/base",
            "_view_module_version": "1.2.0",
            "_view_name": "LayoutView",
            "align_content": null,
            "align_items": null,
            "align_self": null,
            "border": null,
            "bottom": null,
            "display": null,
            "flex": null,
            "flex_flow": null,
            "grid_area": null,
            "grid_auto_columns": null,
            "grid_auto_flow": null,
            "grid_auto_rows": null,
            "grid_column": null,
            "grid_gap": null,
            "grid_row": null,
            "grid_template_areas": null,
            "grid_template_columns": null,
            "grid_template_rows": null,
            "height": null,
            "justify_content": null,
            "justify_items": null,
            "left": null,
            "margin": null,
            "max_height": null,
            "max_width": null,
            "min_height": null,
            "min_width": null,
            "object_fit": null,
            "object_position": null,
            "order": null,
            "overflow": null,
            "overflow_x": null,
            "overflow_y": null,
            "padding": null,
            "right": null,
            "top": null,
            "visibility": null,
            "width": null
          }
        },
        "4d907c68f8134153a5417b95c2ef18eb": {
          "model_module": "@jupyter-widgets/controls",
          "model_module_version": "1.5.0",
          "model_name": "FloatProgressModel",
          "state": {
            "_dom_classes": [],
            "_model_module": "@jupyter-widgets/controls",
            "_model_module_version": "1.5.0",
            "_model_name": "FloatProgressModel",
            "_view_count": null,
            "_view_module": "@jupyter-widgets/controls",
            "_view_module_version": "1.5.0",
            "_view_name": "ProgressView",
            "bar_style": "success",
            "description": "",
            "description_tooltip": null,
            "layout": "IPY_MODEL_7da46c24bad14777b51ee008c452fe51",
            "max": 38,
            "min": 0,
            "orientation": "horizontal",
            "style": "IPY_MODEL_80996be337bb41cdb5de2e851e57bd0b",
            "value": 38
          }
        },
        "4f1dc1a0583f46e9bad1b9792a8cbd2f": {
          "model_module": "@jupyter-widgets/controls",
          "model_module_version": "1.5.0",
          "model_name": "ProgressStyleModel",
          "state": {
            "_model_module": "@jupyter-widgets/controls",
            "_model_module_version": "1.5.0",
            "_model_name": "ProgressStyleModel",
            "_view_count": null,
            "_view_module": "@jupyter-widgets/base",
            "_view_module_version": "1.2.0",
            "_view_name": "StyleView",
            "bar_color": null,
            "description_width": ""
          }
        },
        "4fb9ad1f472e4f44b282a1ca079c3265": {
          "model_module": "@jupyter-widgets/base",
          "model_module_version": "1.2.0",
          "model_name": "LayoutModel",
          "state": {
            "_model_module": "@jupyter-widgets/base",
            "_model_module_version": "1.2.0",
            "_model_name": "LayoutModel",
            "_view_count": null,
            "_view_module": "@jupyter-widgets/base",
            "_view_module_version": "1.2.0",
            "_view_name": "LayoutView",
            "align_content": null,
            "align_items": null,
            "align_self": null,
            "border": null,
            "bottom": null,
            "display": null,
            "flex": null,
            "flex_flow": null,
            "grid_area": null,
            "grid_auto_columns": null,
            "grid_auto_flow": null,
            "grid_auto_rows": null,
            "grid_column": null,
            "grid_gap": null,
            "grid_row": null,
            "grid_template_areas": null,
            "grid_template_columns": null,
            "grid_template_rows": null,
            "height": null,
            "justify_content": null,
            "justify_items": null,
            "left": null,
            "margin": null,
            "max_height": null,
            "max_width": null,
            "min_height": null,
            "min_width": null,
            "object_fit": null,
            "object_position": null,
            "order": null,
            "overflow": null,
            "overflow_x": null,
            "overflow_y": null,
            "padding": null,
            "right": null,
            "top": null,
            "visibility": null,
            "width": null
          }
        },
        "5348b773f1b149a7988109e86e71855e": {
          "model_module": "@jupyter-widgets/controls",
          "model_module_version": "1.5.0",
          "model_name": "HTMLModel",
          "state": {
            "_dom_classes": [],
            "_model_module": "@jupyter-widgets/controls",
            "_model_module_version": "1.5.0",
            "_model_name": "HTMLModel",
            "_view_count": null,
            "_view_module": "@jupyter-widgets/controls",
            "_view_module_version": "1.5.0",
            "_view_name": "HTMLView",
            "description": "",
            "description_tooltip": null,
            "layout": "IPY_MODEL_57e8b2ce23fa4305870f15c9cf4e63a5",
            "placeholder": "​",
            "style": "IPY_MODEL_1b63838d8c7d45658c9026ba12cabddd",
            "value": "  0%"
          }
        },
        "57e8b2ce23fa4305870f15c9cf4e63a5": {
          "model_module": "@jupyter-widgets/base",
          "model_module_version": "1.2.0",
          "model_name": "LayoutModel",
          "state": {
            "_model_module": "@jupyter-widgets/base",
            "_model_module_version": "1.2.0",
            "_model_name": "LayoutModel",
            "_view_count": null,
            "_view_module": "@jupyter-widgets/base",
            "_view_module_version": "1.2.0",
            "_view_name": "LayoutView",
            "align_content": null,
            "align_items": null,
            "align_self": null,
            "border": null,
            "bottom": null,
            "display": null,
            "flex": null,
            "flex_flow": null,
            "grid_area": null,
            "grid_auto_columns": null,
            "grid_auto_flow": null,
            "grid_auto_rows": null,
            "grid_column": null,
            "grid_gap": null,
            "grid_row": null,
            "grid_template_areas": null,
            "grid_template_columns": null,
            "grid_template_rows": null,
            "height": null,
            "justify_content": null,
            "justify_items": null,
            "left": null,
            "margin": null,
            "max_height": null,
            "max_width": null,
            "min_height": null,
            "min_width": null,
            "object_fit": null,
            "object_position": null,
            "order": null,
            "overflow": null,
            "overflow_x": null,
            "overflow_y": null,
            "padding": null,
            "right": null,
            "top": null,
            "visibility": null,
            "width": null
          }
        },
        "68f6c7eb44fb4881b5519ca0303812ad": {
          "model_module": "@jupyter-widgets/base",
          "model_module_version": "1.2.0",
          "model_name": "LayoutModel",
          "state": {
            "_model_module": "@jupyter-widgets/base",
            "_model_module_version": "1.2.0",
            "_model_name": "LayoutModel",
            "_view_count": null,
            "_view_module": "@jupyter-widgets/base",
            "_view_module_version": "1.2.0",
            "_view_name": "LayoutView",
            "align_content": null,
            "align_items": null,
            "align_self": null,
            "border": null,
            "bottom": null,
            "display": null,
            "flex": null,
            "flex_flow": null,
            "grid_area": null,
            "grid_auto_columns": null,
            "grid_auto_flow": null,
            "grid_auto_rows": null,
            "grid_column": null,
            "grid_gap": null,
            "grid_row": null,
            "grid_template_areas": null,
            "grid_template_columns": null,
            "grid_template_rows": null,
            "height": null,
            "justify_content": null,
            "justify_items": null,
            "left": null,
            "margin": null,
            "max_height": null,
            "max_width": null,
            "min_height": null,
            "min_width": null,
            "object_fit": null,
            "object_position": null,
            "order": null,
            "overflow": null,
            "overflow_x": null,
            "overflow_y": null,
            "padding": null,
            "right": null,
            "top": null,
            "visibility": null,
            "width": null
          }
        },
        "6b483a063d154efd9c087ff76fe1798b": {
          "model_module": "@jupyter-widgets/controls",
          "model_module_version": "1.5.0",
          "model_name": "HTMLModel",
          "state": {
            "_dom_classes": [],
            "_model_module": "@jupyter-widgets/controls",
            "_model_module_version": "1.5.0",
            "_model_name": "HTMLModel",
            "_view_count": null,
            "_view_module": "@jupyter-widgets/controls",
            "_view_module_version": "1.5.0",
            "_view_name": "HTMLView",
            "description": "",
            "description_tooltip": null,
            "layout": "IPY_MODEL_68f6c7eb44fb4881b5519ca0303812ad",
            "placeholder": "​",
            "style": "IPY_MODEL_c49959d30ba14fc2b94fb9b4b047703d",
            "value": " 1/302 [00:00&lt;02:17,  2.19it/s]"
          }
        },
        "7da46c24bad14777b51ee008c452fe51": {
          "model_module": "@jupyter-widgets/base",
          "model_module_version": "1.2.0",
          "model_name": "LayoutModel",
          "state": {
            "_model_module": "@jupyter-widgets/base",
            "_model_module_version": "1.2.0",
            "_model_name": "LayoutModel",
            "_view_count": null,
            "_view_module": "@jupyter-widgets/base",
            "_view_module_version": "1.2.0",
            "_view_name": "LayoutView",
            "align_content": null,
            "align_items": null,
            "align_self": null,
            "border": null,
            "bottom": null,
            "display": null,
            "flex": null,
            "flex_flow": null,
            "grid_area": null,
            "grid_auto_columns": null,
            "grid_auto_flow": null,
            "grid_auto_rows": null,
            "grid_column": null,
            "grid_gap": null,
            "grid_row": null,
            "grid_template_areas": null,
            "grid_template_columns": null,
            "grid_template_rows": null,
            "height": null,
            "justify_content": null,
            "justify_items": null,
            "left": null,
            "margin": null,
            "max_height": null,
            "max_width": null,
            "min_height": null,
            "min_width": null,
            "object_fit": null,
            "object_position": null,
            "order": null,
            "overflow": null,
            "overflow_x": null,
            "overflow_y": null,
            "padding": null,
            "right": null,
            "top": null,
            "visibility": null,
            "width": null
          }
        },
        "80996be337bb41cdb5de2e851e57bd0b": {
          "model_module": "@jupyter-widgets/controls",
          "model_module_version": "1.5.0",
          "model_name": "ProgressStyleModel",
          "state": {
            "_model_module": "@jupyter-widgets/controls",
            "_model_module_version": "1.5.0",
            "_model_name": "ProgressStyleModel",
            "_view_count": null,
            "_view_module": "@jupyter-widgets/base",
            "_view_module_version": "1.2.0",
            "_view_name": "StyleView",
            "bar_color": null,
            "description_width": ""
          }
        },
        "823d03d011324c8c8ccd41d4a0326f36": {
          "model_module": "@jupyter-widgets/controls",
          "model_module_version": "1.5.0",
          "model_name": "HBoxModel",
          "state": {
            "_dom_classes": [],
            "_model_module": "@jupyter-widgets/controls",
            "_model_module_version": "1.5.0",
            "_model_name": "HBoxModel",
            "_view_count": null,
            "_view_module": "@jupyter-widgets/controls",
            "_view_module_version": "1.5.0",
            "_view_name": "HBoxView",
            "box_style": "",
            "children": [
              "IPY_MODEL_5348b773f1b149a7988109e86e71855e",
              "IPY_MODEL_42f3becfb6f1426fa31737e33ccaf709",
              "IPY_MODEL_6b483a063d154efd9c087ff76fe1798b"
            ],
            "layout": "IPY_MODEL_c069788f33be46979bf1181dadd9c001"
          }
        },
        "8cf4a12ae7904653a7dad0f915b18873": {
          "model_module": "@jupyter-widgets/controls",
          "model_module_version": "1.5.0",
          "model_name": "DescriptionStyleModel",
          "state": {
            "_model_module": "@jupyter-widgets/controls",
            "_model_module_version": "1.5.0",
            "_model_name": "DescriptionStyleModel",
            "_view_count": null,
            "_view_module": "@jupyter-widgets/base",
            "_view_module_version": "1.2.0",
            "_view_name": "StyleView",
            "description_width": ""
          }
        },
        "aa14d1da8a284f24a8dbdf04935360f5": {
          "model_module": "@jupyter-widgets/controls",
          "model_module_version": "1.5.0",
          "model_name": "HBoxModel",
          "state": {
            "_dom_classes": [],
            "_model_module": "@jupyter-widgets/controls",
            "_model_module_version": "1.5.0",
            "_model_name": "HBoxModel",
            "_view_count": null,
            "_view_module": "@jupyter-widgets/controls",
            "_view_module_version": "1.5.0",
            "_view_name": "HBoxView",
            "box_style": "",
            "children": [
              "IPY_MODEL_1cc44c57621441a880884664c043c837",
              "IPY_MODEL_4d907c68f8134153a5417b95c2ef18eb",
              "IPY_MODEL_2d59d09fe7f34e2c839844cc15364bc4"
            ],
            "layout": "IPY_MODEL_f7ad7cb0f93f4b5b90f21ae9ac8b7d57"
          }
        },
        "c069788f33be46979bf1181dadd9c001": {
          "model_module": "@jupyter-widgets/base",
          "model_module_version": "1.2.0",
          "model_name": "LayoutModel",
          "state": {
            "_model_module": "@jupyter-widgets/base",
            "_model_module_version": "1.2.0",
            "_model_name": "LayoutModel",
            "_view_count": null,
            "_view_module": "@jupyter-widgets/base",
            "_view_module_version": "1.2.0",
            "_view_name": "LayoutView",
            "align_content": null,
            "align_items": null,
            "align_self": null,
            "border": null,
            "bottom": null,
            "display": null,
            "flex": null,
            "flex_flow": null,
            "grid_area": null,
            "grid_auto_columns": null,
            "grid_auto_flow": null,
            "grid_auto_rows": null,
            "grid_column": null,
            "grid_gap": null,
            "grid_row": null,
            "grid_template_areas": null,
            "grid_template_columns": null,
            "grid_template_rows": null,
            "height": null,
            "justify_content": null,
            "justify_items": null,
            "left": null,
            "margin": null,
            "max_height": null,
            "max_width": null,
            "min_height": null,
            "min_width": null,
            "object_fit": null,
            "object_position": null,
            "order": null,
            "overflow": null,
            "overflow_x": null,
            "overflow_y": null,
            "padding": null,
            "right": null,
            "top": null,
            "visibility": null,
            "width": null
          }
        },
        "c49959d30ba14fc2b94fb9b4b047703d": {
          "model_module": "@jupyter-widgets/controls",
          "model_module_version": "1.5.0",
          "model_name": "DescriptionStyleModel",
          "state": {
            "_model_module": "@jupyter-widgets/controls",
            "_model_module_version": "1.5.0",
            "_model_name": "DescriptionStyleModel",
            "_view_count": null,
            "_view_module": "@jupyter-widgets/base",
            "_view_module_version": "1.2.0",
            "_view_name": "StyleView",
            "description_width": ""
          }
        },
        "f7ad7cb0f93f4b5b90f21ae9ac8b7d57": {
          "model_module": "@jupyter-widgets/base",
          "model_module_version": "1.2.0",
          "model_name": "LayoutModel",
          "state": {
            "_model_module": "@jupyter-widgets/base",
            "_model_module_version": "1.2.0",
            "_model_name": "LayoutModel",
            "_view_count": null,
            "_view_module": "@jupyter-widgets/base",
            "_view_module_version": "1.2.0",
            "_view_name": "LayoutView",
            "align_content": null,
            "align_items": null,
            "align_self": null,
            "border": null,
            "bottom": null,
            "display": null,
            "flex": null,
            "flex_flow": null,
            "grid_area": null,
            "grid_auto_columns": null,
            "grid_auto_flow": null,
            "grid_auto_rows": null,
            "grid_column": null,
            "grid_gap": null,
            "grid_row": null,
            "grid_template_areas": null,
            "grid_template_columns": null,
            "grid_template_rows": null,
            "height": null,
            "justify_content": null,
            "justify_items": null,
            "left": null,
            "margin": null,
            "max_height": null,
            "max_width": null,
            "min_height": null,
            "min_width": null,
            "object_fit": null,
            "object_position": null,
            "order": null,
            "overflow": null,
            "overflow_x": null,
            "overflow_y": null,
            "padding": null,
            "right": null,
            "top": null,
            "visibility": null,
            "width": null
          }
        },
        "fac67fd7ec374b159e5a740b5110a087": {
          "model_module": "@jupyter-widgets/base",
          "model_module_version": "1.2.0",
          "model_name": "LayoutModel",
          "state": {
            "_model_module": "@jupyter-widgets/base",
            "_model_module_version": "1.2.0",
            "_model_name": "LayoutModel",
            "_view_count": null,
            "_view_module": "@jupyter-widgets/base",
            "_view_module_version": "1.2.0",
            "_view_name": "LayoutView",
            "align_content": null,
            "align_items": null,
            "align_self": null,
            "border": null,
            "bottom": null,
            "display": null,
            "flex": null,
            "flex_flow": null,
            "grid_area": null,
            "grid_auto_columns": null,
            "grid_auto_flow": null,
            "grid_auto_rows": null,
            "grid_column": null,
            "grid_gap": null,
            "grid_row": null,
            "grid_template_areas": null,
            "grid_template_columns": null,
            "grid_template_rows": null,
            "height": null,
            "justify_content": null,
            "justify_items": null,
            "left": null,
            "margin": null,
            "max_height": null,
            "max_width": null,
            "min_height": null,
            "min_width": null,
            "object_fit": null,
            "object_position": null,
            "order": null,
            "overflow": null,
            "overflow_x": null,
            "overflow_y": null,
            "padding": null,
            "right": null,
            "top": null,
            "visibility": null,
            "width": null
          }
        }
      }
    }
  },
  "nbformat": 4,
  "nbformat_minor": 0
}
